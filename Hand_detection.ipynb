{
 "cells": [
  {
   "cell_type": "code",
   "execution_count": null,
   "id": "a1e046ad",
   "metadata": {},
   "outputs": [],
   "source": [
    "import mediapipe as mp\n",
    "import cv2\n",
    "import time"
   ]
  },
  {
   "cell_type": "code",
   "execution_count": null,
   "id": "95364b26",
   "metadata": {},
   "outputs": [],
   "source": [
    "class HandDetector():\n",
    "    def __init__(self,mode=False,maxHands = 2,modelC = 1, detectionCon=0.5, trackCon= 0.5):\n",
    "        self.mode = mode\n",
    "        self.maxHands = maxHands\n",
    "        self.modelC = modelC\n",
    "        self.detectionCon = detectionCon\n",
    "        self.trackCon = trackCon\n",
    "        \n",
    "        self.mpHands = mp.solutions.hands\n",
    "        self.hands = self.mpHands.Hands(self.mode,self.maxHands,self.modelC,self.detectionCon,self.trackCon)\n",
    "        self.mpDraw = mp.solutions.drawing_utils\n",
    "        \n",
    "    def find_hands(self,img,draw= True):\n",
    "        imgRGB = cv2.cvtColor(img, cv2.COLOR_BGR2RGB)\n",
    "        self.results =self.hands.process(imgRGB)\n",
    "        if self.results.multi_hand_landmarks:\n",
    "            for handLms in self.results.multi_hand_landmarks:\n",
    "                if draw:\n",
    "                    self.mpDraw.draw_landmarks(img, handLms, self.mpHands.HAND_CONNECTIONS)\n",
    "        return img\n",
    "    def find_position(self,img,handNo=0,draw= True):\n",
    "        landmarks_List=[]\n",
    "        if self.results.multi_hand_landmarks:\n",
    "            my_hand = self.results.multi_hand_landmarks[handNo]\n",
    "            for handLms in self.results.multi_hand_landmarks:\n",
    "                for id, lm in enumerate(my_hand.landmark):\n",
    "                    # print(id, lm)\n",
    "                    h, w, c = img.shape\n",
    "                    cx, cy = int(lm.x*w), int(lm.y*h)\n",
    "                    #print(id, cx, cy)#coordinates for eah landmark\n",
    "                    landmarks_List.append([id, cx, cy])\n",
    "                    if draw:\n",
    "                        cv2.circle(img, (cx, cy),5, (255,0,255), cv2.FILLED)\n",
    "        return landmarks_List              "
   ]
  },
  {
   "cell_type": "code",
   "execution_count": null,
   "id": "9f2c8d4d",
   "metadata": {},
   "outputs": [],
   "source": [
    "pTime = 0\n",
    "cTime = 0\n",
    "cap = cv2.VideoCapture(0)\n",
    "detector = HandDetector()\n",
    "while True:\n",
    "    success, img=cap.read()\n",
    "    img = detector.find_hands(img)\n",
    "    landmarks_List = detector.find_position(img)\n",
    "    if len(landmarks_List) !=0:\n",
    "        print(landmarks_List[4])\n",
    "    cTime = time.time()\n",
    "    fps = 1/(cTime-pTime)\n",
    "    pTime = cTime\n",
    "    \n",
    "    cv2.putText(img, str(int(fps)),(10,70),cv2.FONT_HERSHEY_PLAIN,3,\n",
    "               (255,0,255),3)\n",
    "    cv2.imshow(\"image\",img)\n",
    "    cv2.waitKey(1)"
   ]
  },
  {
   "cell_type": "code",
   "execution_count": null,
   "id": "682b15b5",
   "metadata": {},
   "outputs": [],
   "source": []
  }
 ],
 "metadata": {
  "kernelspec": {
   "display_name": "Python 3",
   "language": "python",
   "name": "python3"
  },
  "language_info": {
   "codemirror_mode": {
    "name": "ipython",
    "version": 3
   },
   "file_extension": ".py",
   "mimetype": "text/x-python",
   "name": "python",
   "nbconvert_exporter": "python",
   "pygments_lexer": "ipython3",
   "version": "3.8.8"
  }
 },
 "nbformat": 4,
 "nbformat_minor": 5
}
